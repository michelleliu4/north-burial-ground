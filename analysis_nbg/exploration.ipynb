{
 "cells": [
  {
   "cell_type": "code",
   "execution_count": 1,
   "id": "49c1afa1",
   "metadata": {},
   "outputs": [],
   "source": [
    "import numpy as np\n",
    "import pandas as pd\n",
    "import matplotlib.pyplot as plt\n",
    "\n",
    "%matplotlib inline"
   ]
  },
  {
   "cell_type": "code",
   "execution_count": 2,
   "id": "8cc6a7d1",
   "metadata": {},
   "outputs": [
    {
     "data": {
      "text/html": [
       "<div>\n",
       "<style scoped>\n",
       "    .dataframe tbody tr th:only-of-type {\n",
       "        vertical-align: middle;\n",
       "    }\n",
       "\n",
       "    .dataframe tbody tr th {\n",
       "        vertical-align: top;\n",
       "    }\n",
       "\n",
       "    .dataframe thead th {\n",
       "        text-align: right;\n",
       "    }\n",
       "</style>\n",
       "<table border=\"1\" class=\"dataframe\">\n",
       "  <thead>\n",
       "    <tr style=\"text-align: right;\">\n",
       "      <th></th>\n",
       "      <th>hash256</th>\n",
       "      <th>section</th>\n",
       "      <th>composition</th>\n",
       "      <th>condition</th>\n",
       "      <th>legibility</th>\n",
       "      <th>estimated_installation_year</th>\n",
       "    </tr>\n",
       "  </thead>\n",
       "  <tbody>\n",
       "    <tr>\n",
       "      <th>0</th>\n",
       "      <td>0049ac1ffd32c23bdfecec450ef57c849c11214f55313b...</td>\n",
       "      <td>AA</td>\n",
       "      <td>slate</td>\n",
       "      <td>good</td>\n",
       "      <td>good</td>\n",
       "      <td>1815.0</td>\n",
       "    </tr>\n",
       "    <tr>\n",
       "      <th>1</th>\n",
       "      <td>0052007a21903ea02fc734164c412ded3fc8dd57631dac...</td>\n",
       "      <td>AA</td>\n",
       "      <td>marble</td>\n",
       "      <td>fair</td>\n",
       "      <td>good</td>\n",
       "      <td>1831.0</td>\n",
       "    </tr>\n",
       "    <tr>\n",
       "      <th>2</th>\n",
       "      <td>005712d26d6009645a85b5a6bfecf3b213b9cb52ace8e8...</td>\n",
       "      <td>AA</td>\n",
       "      <td>marble</td>\n",
       "      <td>fair</td>\n",
       "      <td>poor</td>\n",
       "      <td>1837.0</td>\n",
       "    </tr>\n",
       "    <tr>\n",
       "      <th>3</th>\n",
       "      <td>00d2ec8c326523339228477bdf2a0226e5f3b0f9b2246f...</td>\n",
       "      <td>AA</td>\n",
       "      <td>NaN</td>\n",
       "      <td>NaN</td>\n",
       "      <td>NaN</td>\n",
       "      <td>1803.0</td>\n",
       "    </tr>\n",
       "    <tr>\n",
       "      <th>4</th>\n",
       "      <td>00e5d3a1ac5b842b06c456d2711495ff041ad3c67eef71...</td>\n",
       "      <td>AA</td>\n",
       "      <td>marble</td>\n",
       "      <td>poor</td>\n",
       "      <td>poor</td>\n",
       "      <td>1831.0</td>\n",
       "    </tr>\n",
       "  </tbody>\n",
       "</table>\n",
       "</div>"
      ],
      "text/plain": [
       "                                             hash256 section composition  \\\n",
       "0  0049ac1ffd32c23bdfecec450ef57c849c11214f55313b...      AA       slate   \n",
       "1  0052007a21903ea02fc734164c412ded3fc8dd57631dac...      AA      marble   \n",
       "2  005712d26d6009645a85b5a6bfecf3b213b9cb52ace8e8...      AA      marble   \n",
       "3  00d2ec8c326523339228477bdf2a0226e5f3b0f9b2246f...      AA         NaN   \n",
       "4  00e5d3a1ac5b842b06c456d2711495ff041ad3c67eef71...      AA      marble   \n",
       "\n",
       "  condition legibility  estimated_installation_year  \n",
       "0      good       good                       1815.0  \n",
       "1      fair       good                       1831.0  \n",
       "2      fair       poor                       1837.0  \n",
       "3       NaN        NaN                       1803.0  \n",
       "4      poor       poor                       1831.0  "
      ]
     },
     "execution_count": 2,
     "metadata": {},
     "output_type": "execute_result"
    }
   ],
   "source": [
    "df = pd.read_csv('tombstone_conditions.csv')\n",
    "df.head()"
   ]
  },
  {
   "cell_type": "markdown",
   "id": "b8f71625",
   "metadata": {},
   "source": [
    "## Condition Section"
   ]
  },
  {
   "cell_type": "code",
   "execution_count": 4,
   "id": "ab773cbc",
   "metadata": {},
   "outputs": [
    {
     "data": {
      "text/plain": [
       "section\n",
       "AC    1782.0\n",
       "AD    1815.5\n",
       "AB    1824.0\n",
       "AG    1824.0\n",
       "AF    1829.0\n",
       "AA    1836.0\n",
       "VA    1848.0\n",
       "AR    1850.0\n",
       "AI    1852.5\n",
       "BB    1855.5\n",
       "AY    1856.0\n",
       "BA    1856.0\n",
       "AJ    1861.0\n",
       "AK    1863.5\n",
       "AQ    1863.5\n",
       "FG    1864.0\n",
       "AE    1866.0\n",
       "AX    1867.5\n",
       "BC    1870.0\n",
       "AP    1870.0\n",
       "BF    1874.5\n",
       "BD    1875.0\n",
       "AO    1875.0\n",
       "BE    1886.0\n",
       "AH    1893.0\n",
       "AS    1897.0\n",
       "Name: estimated_installation_year, dtype: float64"
      ]
     },
     "execution_count": 4,
     "metadata": {},
     "output_type": "execute_result"
    }
   ],
   "source": [
    "# Compute median year of tombstone by section order\n",
    "df.groupby('section')['estimated_installation_year'].median().sort_values(ascending=True)   "
   ]
  }
 ],
 "metadata": {
  "kernelspec": {
   "display_name": "myenv",
   "language": "python",
   "name": "python3"
  },
  "language_info": {
   "codemirror_mode": {
    "name": "ipython",
    "version": 3
   },
   "file_extension": ".py",
   "mimetype": "text/x-python",
   "name": "python",
   "nbconvert_exporter": "python",
   "pygments_lexer": "ipython3",
   "version": "3.13.2"
  }
 },
 "nbformat": 4,
 "nbformat_minor": 5
}
